{
 "cells": [
  {
   "cell_type": "code",
   "execution_count": 1,
   "id": "cc67be10",
   "metadata": {},
   "outputs": [],
   "source": [
    "from numpy import sqrt\n",
    "\n",
    "def time_to_fall(h):\n",
    "    return sqrt(2*h/10)"
   ]
  },
  {
   "cell_type": "code",
   "execution_count": 2,
   "id": "f16f2856",
   "metadata": {},
   "outputs": [
    {
     "data": {
      "text/plain": [
       "2.0"
      ]
     },
     "execution_count": 2,
     "metadata": {},
     "output_type": "execute_result"
    }
   ],
   "source": [
    "time_to_fall(20)"
   ]
  },
  {
   "cell_type": "code",
   "execution_count": 3,
   "id": "c4a58d8a",
   "metadata": {},
   "outputs": [],
   "source": [
    "assert(time_to_fall(0) == 0)\n",
    "assert(time_to_fall(20) == 2)"
   ]
  },
  {
   "cell_type": "code",
   "execution_count": 4,
   "id": "62e6bb97",
   "metadata": {},
   "outputs": [
    {
     "data": {
      "text/plain": [
       "0.0"
      ]
     },
     "execution_count": 4,
     "metadata": {},
     "output_type": "execute_result"
    }
   ],
   "source": [
    "time_to_fall(0)"
   ]
  },
  {
   "cell_type": "code",
   "execution_count": null,
   "id": "2e980888",
   "metadata": {},
   "outputs": [],
   "source": []
  },
  {
   "cell_type": "code",
   "execution_count": null,
   "id": "4ed28fb6",
   "metadata": {},
   "outputs": [],
   "source": []
  }
 ],
 "metadata": {
  "kernelspec": {
   "display_name": "Python 3",
   "language": "python",
   "name": "python3"
  },
  "language_info": {
   "codemirror_mode": {
    "name": "ipython",
    "version": 3
   },
   "file_extension": ".py",
   "mimetype": "text/x-python",
   "name": "python",
   "nbconvert_exporter": "python",
   "pygments_lexer": "ipython3",
   "version": "3.8.8"
  }
 },
 "nbformat": 4,
 "nbformat_minor": 5
}
